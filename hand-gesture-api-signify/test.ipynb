{
 "cells": [
  {
   "cell_type": "code",
   "execution_count": 2,
   "metadata": {},
   "outputs": [],
   "source": [
    "import requests\n",
    "import firebase_admin\n",
    "from firebase_admin import credentials, firestore"
   ]
  },
  {
   "cell_type": "code",
   "execution_count": 6,
   "metadata": {},
   "outputs": [
    {
     "data": {
      "text/plain": [
       "{'message': 'Prediction successful.',\n",
       " 'detection': 'A',\n",
       " 'timestamp': '12/08/2024, 16:29:16'}"
      ]
     },
     "execution_count": 6,
     "metadata": {},
     "output_type": "execute_result"
    }
   ],
   "source": [
    "# url = \"http://127.0.0.1:8000/predict\"\n",
    "url = \"https://hand-gesture-signify-930248014296.asia-southeast2.run.app/predict\"\n",
    "file_path = \"A (1702).jpg\"\n",
    "\n",
    "with open(file_path, \"rb\") as f:\n",
    "    files = {\"file\": f}\n",
    "    response = requests.post(url, files=files)\n",
    "\n",
    "response.json()"
   ]
  },
  {
   "cell_type": "code",
   "execution_count": null,
   "metadata": {},
   "outputs": [
    {
     "name": "stdout",
     "output_type": "stream",
     "text": [
      "4cfdf247-3e54-412b-85bf-bb17078b98f3 => {'prediction': 'A', 'timestamp': '12/08/2024, 16:29:01'}\n",
      "6314c289-5175-4f35-a146-ad7867433894 => {'prediction': 'A', 'timestamp': '12/08/2024, 15:54:17'}\n",
      "b79fabf3-9108-43b1-a09f-dcd42ab8d5c1 => {'prediction': 'A', 'timestamp': '12/08/2024, 23:02:51'}\n",
      "c91dc073-c703-4f9b-aaee-c8b2a5972871 => {'prediction': 'A', 'timestamp': '12/08/2024, 16:05:48'}\n",
      "cfc0ddbd-b5b3-427a-bda4-83f241f56631 => {'prediction': 'A', 'timestamp': '12/08/2024, 15:54:08'}\n"
     ]
    }
   ],
   "source": [
    "cred = credentials.Certificate(\"credentials.json\")\n",
    "firebase_admin.initialize_app(cred) if not firebase_admin._apps else firebase_admin.get_app()\n",
    "\n",
    "db = firestore.client()\n",
    "\n",
    "# Melihat semua data yang ada di collection predictions\n",
    "docs = db.collection(u'predictions').stream()\n",
    "for doc in docs:\n",
    "    print(f'{doc.id} => {doc.to_dict()}')\n",
    "\n",
    "# Menghapus semua data yang ada di collection predictions\n",
    "# docs = db.collection(u'predictions').stream()\n",
    "# for doc in docs:\n",
    "#     doc.reference.delete()"
   ]
  }
 ],
 "metadata": {
  "kernelspec": {
   "display_name": "base",
   "language": "python",
   "name": "python3"
  },
  "language_info": {
   "codemirror_mode": {
    "name": "ipython",
    "version": 3
   },
   "file_extension": ".py",
   "mimetype": "text/x-python",
   "name": "python",
   "nbconvert_exporter": "python",
   "pygments_lexer": "ipython3",
   "version": "3.12.7"
  }
 },
 "nbformat": 4,
 "nbformat_minor": 2
}
